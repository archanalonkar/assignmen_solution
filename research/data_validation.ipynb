{
 "cells": [
  {
   "cell_type": "code",
   "execution_count": 1,
   "metadata": {},
   "outputs": [],
   "source": [
    "import os"
   ]
  },
  {
   "cell_type": "code",
   "execution_count": 2,
   "metadata": {},
   "outputs": [],
   "source": [
    "os.chdir('c:\\\\Users\\\\Archana\\\\Desktop\\\\test\\\\assignmen_solution\\\\')"
   ]
  },
  {
   "cell_type": "code",
   "execution_count": 3,
   "metadata": {},
   "outputs": [],
   "source": [
    "import pandas as pd"
   ]
  },
  {
   "cell_type": "code",
   "execution_count": 7,
   "metadata": {},
   "outputs": [],
   "source": [
    "df = pd.read_csv('artifacts/data_ingestion/employee_data.csv', on_bad_lines='skip')\n"
   ]
  },
  {
   "cell_type": "code",
   "execution_count": 8,
   "metadata": {},
   "outputs": [
    {
     "data": {
      "text/html": [
       "<div>\n",
       "<style scoped>\n",
       "    .dataframe tbody tr th:only-of-type {\n",
       "        vertical-align: middle;\n",
       "    }\n",
       "\n",
       "    .dataframe tbody tr th {\n",
       "        vertical-align: top;\n",
       "    }\n",
       "\n",
       "    .dataframe thead th {\n",
       "        text-align: right;\n",
       "    }\n",
       "</style>\n",
       "<table border=\"1\" class=\"dataframe\">\n",
       "  <thead>\n",
       "    <tr style=\"text-align: right;\">\n",
       "      <th></th>\n",
       "      <th>employee_id</th>\n",
       "      <th>age</th>\n",
       "      <th>gender</th>\n",
       "      <th>marital_status</th>\n",
       "      <th>salary</th>\n",
       "      <th>employment_type</th>\n",
       "      <th>region</th>\n",
       "      <th>has_dependents</th>\n",
       "      <th>tenure_years</th>\n",
       "      <th>enrolled</th>\n",
       "    </tr>\n",
       "  </thead>\n",
       "  <tbody>\n",
       "    <tr>\n",
       "      <th>0</th>\n",
       "      <td>10001</td>\n",
       "      <td>60</td>\n",
       "      <td>Female</td>\n",
       "      <td>Single</td>\n",
       "      <td>55122.97</td>\n",
       "      <td>Part-time</td>\n",
       "      <td>West</td>\n",
       "      <td>No</td>\n",
       "      <td>1.5</td>\n",
       "      <td>0</td>\n",
       "    </tr>\n",
       "    <tr>\n",
       "      <th>1</th>\n",
       "      <td>10002</td>\n",
       "      <td>50</td>\n",
       "      <td>Female</td>\n",
       "      <td>Single</td>\n",
       "      <td>89549.66</td>\n",
       "      <td>Full-time</td>\n",
       "      <td>West</td>\n",
       "      <td>Yes</td>\n",
       "      <td>12.8</td>\n",
       "      <td>1</td>\n",
       "    </tr>\n",
       "    <tr>\n",
       "      <th>2</th>\n",
       "      <td>10003</td>\n",
       "      <td>36</td>\n",
       "      <td>Male</td>\n",
       "      <td>Divorced</td>\n",
       "      <td>74145.66</td>\n",
       "      <td>Part-time</td>\n",
       "      <td>Midwest</td>\n",
       "      <td>No</td>\n",
       "      <td>3.8</td>\n",
       "      <td>0</td>\n",
       "    </tr>\n",
       "    <tr>\n",
       "      <th>3</th>\n",
       "      <td>10004</td>\n",
       "      <td>64</td>\n",
       "      <td>Female</td>\n",
       "      <td>Married</td>\n",
       "      <td>53877.83</td>\n",
       "      <td>Full-time</td>\n",
       "      <td>Northeast</td>\n",
       "      <td>No</td>\n",
       "      <td>3.3</td>\n",
       "      <td>0</td>\n",
       "    </tr>\n",
       "    <tr>\n",
       "      <th>4</th>\n",
       "      <td>10005</td>\n",
       "      <td>29</td>\n",
       "      <td>Male</td>\n",
       "      <td>Single</td>\n",
       "      <td>63404.63</td>\n",
       "      <td>Contract</td>\n",
       "      <td>Midwest</td>\n",
       "      <td>Yes</td>\n",
       "      <td>10.0</td>\n",
       "      <td>0</td>\n",
       "    </tr>\n",
       "  </tbody>\n",
       "</table>\n",
       "</div>"
      ],
      "text/plain": [
       "   employee_id  age  gender marital_status    salary employment_type  \\\n",
       "0        10001   60  Female         Single  55122.97       Part-time   \n",
       "1        10002   50  Female         Single  89549.66       Full-time   \n",
       "2        10003   36    Male       Divorced  74145.66       Part-time   \n",
       "3        10004   64  Female        Married  53877.83       Full-time   \n",
       "4        10005   29    Male         Single  63404.63        Contract   \n",
       "\n",
       "      region has_dependents  tenure_years  enrolled  \n",
       "0       West             No           1.5         0  \n",
       "1       West            Yes          12.8         1  \n",
       "2    Midwest             No           3.8         0  \n",
       "3  Northeast             No           3.3         0  \n",
       "4    Midwest            Yes          10.0         0  "
      ]
     },
     "execution_count": 8,
     "metadata": {},
     "output_type": "execute_result"
    }
   ],
   "source": [
    "df.head()"
   ]
  },
  {
   "cell_type": "code",
   "execution_count": 9,
   "metadata": {},
   "outputs": [],
   "source": [
    "from dataclasses import dataclass\n",
    "from pathlib import Path\n",
    "\n",
    "@dataclass(frozen = True)\n",
    "class DataValidationConfig:\n",
    "    root_dir: Path\n",
    "    STATUS_FILE : str\n",
    "    unzip_data_dir: Path\n",
    "    all_schema:dict"
   ]
  },
  {
   "cell_type": "code",
   "execution_count": 11,
   "metadata": {},
   "outputs": [
    {
     "name": "stdout",
     "output_type": "stream",
     "text": [
      "Collecting scikit-learn\n",
      "  Using cached scikit_learn-1.6.1-cp310-cp310-win_amd64.whl.metadata (15 kB)\n",
      "Requirement already satisfied: numpy>=1.19.5 in c:\\users\\archana\\anaconda3\\envs\\ml_assigment\\lib\\site-packages (from scikit-learn) (2.2.4)\n",
      "Collecting scipy>=1.6.0 (from scikit-learn)\n",
      "  Using cached scipy-1.15.2-cp310-cp310-win_amd64.whl.metadata (60 kB)\n",
      "Requirement already satisfied: joblib>=1.2.0 in c:\\users\\archana\\anaconda3\\envs\\ml_assigment\\lib\\site-packages (from scikit-learn) (1.4.2)\n",
      "Collecting threadpoolctl>=3.1.0 (from scikit-learn)\n",
      "  Using cached threadpoolctl-3.6.0-py3-none-any.whl.metadata (13 kB)\n",
      "Using cached scikit_learn-1.6.1-cp310-cp310-win_amd64.whl (11.1 MB)\n",
      "Using cached scipy-1.15.2-cp310-cp310-win_amd64.whl (41.2 MB)\n",
      "Using cached threadpoolctl-3.6.0-py3-none-any.whl (18 kB)\n",
      "Installing collected packages: threadpoolctl, scipy, scikit-learn\n",
      "Successfully installed scikit-learn-1.6.1 scipy-1.15.2 threadpoolctl-3.6.0\n"
     ]
    }
   ],
   "source": [
    "!pip install scikit-learn"
   ]
  },
  {
   "cell_type": "code",
   "execution_count": 10,
   "metadata": {},
   "outputs": [],
   "source": [
    "from src.ml_proj.constants import *\n",
    "from  src.ml_proj.utils.common import read_yaml, create_directories"
   ]
  },
  {
   "cell_type": "code",
   "execution_count": 12,
   "metadata": {},
   "outputs": [],
   "source": [
    "import pandas as pd\n",
    "from sklearn.preprocessing import LabelEncoder, StandardScaler\n",
    "import os\n",
    "from src.ml_proj import logger"
   ]
  },
  {
   "cell_type": "code",
   "execution_count": 13,
   "metadata": {},
   "outputs": [],
   "source": [
    "class ConfigurationManager:\n",
    "    def __init__(self, config_filepath=CONFIG_FILE_PATH, params_filepath=PARAMS_FILE_PATH, schema_filepath=SCHEMA_FILE_PATH):\n",
    "        self.config = read_yaml(config_filepath)\n",
    "        self.params = read_yaml(params_filepath)\n",
    "        self.schema = read_yaml(schema_filepath)\n",
    "        create_directories([self.config.artifacts_root])\n",
    "\n",
    "    def get_data_validation_config(self) -> DataValidationConfig:\n",
    "        config = self.config.data_validation\n",
    "        schema = self.schema.COLUMNS\n",
    "\n",
    "        create_directories([config.root_dir])\n",
    "\n",
    "        data_validation_config = DataValidationConfig(\n",
    "            root_dir=config.root_dir,\n",
    "            STATUS_FILE=config.STATUS_FILE,\n",
    "            unzip_data_dir=config.unzip_data_dir,\n",
    "            all_schema=schema,\n",
    "        )\n",
    "        return data_validation_config\n"
   ]
  },
  {
   "cell_type": "code",
   "execution_count": 17,
   "metadata": {},
   "outputs": [],
   "source": [
    "class DataPreprocessing:\n",
    "    def __init__(self, df: pd.DataFrame):\n",
    "        self.df = df\n",
    "\n",
    "    def encode_categorical_columns(self):\n",
    "        try:\n",
    "            categorical_cols = self.df.select_dtypes(include=['object', 'category']).columns.tolist()\n",
    "            encoder = LabelEncoder()\n",
    "\n",
    "            for col in categorical_cols:\n",
    "                self.df[col] = encoder.fit_transform(self.df[col])\n",
    "\n",
    "            logger.info(\"Categorical columns encoded successfully.\")\n",
    "        except Exception as e:\n",
    "            logger.error(f\"Error encoding categorical columns: {e}\")\n",
    "            raise e\n",
    "\n",
    "    def scale_features(self, features: list):\n",
    "        \n",
    "        try:\n",
    "            scaler = StandardScaler()\n",
    "            self.df[features] = scaler.fit_transform(self.df[features])\n",
    "\n",
    "            logger.info(f\"Features {features} scaled successfully.\")\n",
    "        except Exception as e:\n",
    "            logger.error(f\"Error scaling features: {e}\")\n",
    "            raise e\n",
    "\n"
   ]
  },
  {
   "cell_type": "code",
   "execution_count": 14,
   "metadata": {},
   "outputs": [],
   "source": [
    "class DataValidation:\n",
    "    def __init__(self, config=DataValidationConfig):\n",
    "        self.config = config\n",
    "    \n",
    "    def validate_all_columns(self) -> bool:\n",
    "        try:\n",
    "            validation_status = None\n",
    "\n",
    "            data = pd.read_csv(self.config.unzip_data_dir)\n",
    "            all_cols = list(data.columns)\n",
    "\n",
    "            all_schema = self.config.all_schema.keys()\n",
    "\n",
    "            for col in all_cols:\n",
    "                if col not in all_schema:\n",
    "                    validation_status = False\n",
    "                    with open(self.config.STATUS_FILE, 'w') as f:\n",
    "                        f.write(f\"Validation status: {validation_status}\")\n",
    "                else:\n",
    "                    validation_status = True\n",
    "                    with open(self.config.STATUS_FILE, 'w') as f:\n",
    "                        f.write(f\"Validation status: {validation_status}\")\n",
    "\n",
    "            return validation_status\n",
    "        except Exception as e:\n",
    "            raise e"
   ]
  },
  {
   "cell_type": "code",
   "execution_count": 18,
   "metadata": {},
   "outputs": [
    {
     "name": "stdout",
     "output_type": "stream",
     "text": [
      "[2025-03-27 00:26:06,519: INFO: common: yaml file: config\\config.yaml loaded successfully]\n",
      "[2025-03-27 00:26:06,521: INFO: common: yaml file: params.yaml loaded successfully]\n",
      "[2025-03-27 00:26:06,525: INFO: common: yaml file: schema.yaml loaded successfully]\n",
      "[2025-03-27 00:26:06,528: INFO: common: created directory at: artifacts]\n",
      "[2025-03-27 00:26:06,530: INFO: common: created directory at: artifacts/data_validation]\n",
      "[2025-03-27 00:26:06,599: INFO: 1313075877: Categorical columns encoded successfully.]\n",
      "[2025-03-27 00:26:06,619: INFO: 1313075877: Features ['age', 'salary', 'tenure_years'] scaled successfully.]\n"
     ]
    }
   ],
   "source": [
    "try:\n",
    "    # Initialize Configuration Manager\n",
    "    config = ConfigurationManager()\n",
    "\n",
    "    # Get data validation configuration\n",
    "    data_validation_config = config.get_data_validation_config()\n",
    "\n",
    "    # Data validation\n",
    "    data_validation = DataValidation(config=data_validation_config)\n",
    "    data_validation.validate_all_columns()\n",
    "\n",
    "    # Data preprocessing\n",
    "    df = pd.read_csv(config.config.data_validation.unzip_data_dir)  # Load your dataframe\n",
    "    data_preprocessor = DataPreprocessing(df)\n",
    "\n",
    "    # Encode categorical columns\n",
    "    data_preprocessor.encode_categorical_columns()\n",
    "\n",
    "    # Scale numerical features\n",
    "    features_to_scale = [\"age\", \"salary\", \"tenure_years\"]\n",
    "    data_preprocessor.scale_features(features_to_scale)\n",
    "\n",
    "except Exception as e:\n",
    "    logger.error(f\"Error in processing: {e}\")\n",
    "    raise e"
   ]
  },
  {
   "cell_type": "code",
   "execution_count": null,
   "metadata": {},
   "outputs": [],
   "source": []
  }
 ],
 "metadata": {
  "kernelspec": {
   "display_name": "ml_assigment",
   "language": "python",
   "name": "python3"
  },
  "language_info": {
   "codemirror_mode": {
    "name": "ipython",
    "version": 3
   },
   "file_extension": ".py",
   "mimetype": "text/x-python",
   "name": "python",
   "nbconvert_exporter": "python",
   "pygments_lexer": "ipython3",
   "version": "3.10.16"
  }
 },
 "nbformat": 4,
 "nbformat_minor": 2
}
