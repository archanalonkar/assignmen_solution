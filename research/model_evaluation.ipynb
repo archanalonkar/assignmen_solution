{
 "cells": [
  {
   "cell_type": "code",
   "execution_count": 1,
   "metadata": {},
   "outputs": [],
   "source": [
    "import os"
   ]
  },
  {
   "cell_type": "code",
   "execution_count": 2,
   "metadata": {},
   "outputs": [
    {
     "data": {
      "text/plain": [
       "'c:\\\\Users\\\\Archana\\\\Desktop\\\\test\\\\assignmen_solution\\\\research'"
      ]
     },
     "execution_count": 2,
     "metadata": {},
     "output_type": "execute_result"
    }
   ],
   "source": [
    "os.getcwd()"
   ]
  },
  {
   "cell_type": "code",
   "execution_count": 3,
   "metadata": {},
   "outputs": [],
   "source": [
    "os.chdir('../')"
   ]
  },
  {
   "cell_type": "code",
   "execution_count": 32,
   "metadata": {},
   "outputs": [],
   "source": [
    "from dataclasses import dataclass\n",
    "from pathlib import Path\n",
    "\n",
    "@dataclass(frozen=True)\n",
    "class ModelEvaluationConfig:\n",
    "    root_dir: Path\n",
    "    test_data_path: Path\n",
    "    model_path: Path\n",
    "    all_params: dict\n",
    "    metric_file_name: Path\n",
    "    target_column: str\n",
    "    mlflow_uri: str\n",
    "    "
   ]
  },
  {
   "cell_type": "code",
   "execution_count": 33,
   "metadata": {},
   "outputs": [],
   "source": [
    "from src.ml_proj.utils.common import read_yaml, create_directories\n",
    "from src.ml_proj.utils.common import save_json\n",
    "from src.ml_proj.constants import *"
   ]
  },
  {
   "cell_type": "code",
   "execution_count": 34,
   "metadata": {},
   "outputs": [],
   "source": [
    "class ConfigurationManager:\n",
    "    def __init__(\n",
    "        self,\n",
    "        config_filepath = CONFIG_FILE_PATH,\n",
    "        params_filepath = PARAMS_FILE_PATH,\n",
    "        schema_filepath = SCHEMA_FILE_PATH):\n",
    "\n",
    "        self.config = read_yaml(config_filepath)\n",
    "        self.params = read_yaml(params_filepath)\n",
    "        self.schema = read_yaml(schema_filepath)\n",
    "\n",
    "        create_directories([self.config.artifacts_root])\n",
    "\n",
    "\n",
    "    def get_model_evaluation_config(self) -> ModelEvaluationConfig:\n",
    "        config1 = self.config.model_evaluation\n",
    "        params = self.params.LogisticRegression\n",
    "        schema =  self.schema.TARGET_COLUMN\n",
    "\n",
    "        config2 = self.config.mlflow_info\n",
    "\n",
    "        os.environ['MLFLOW_TRACKING_URI'] = config2.tracking_uri\n",
    "        os.environ['MLFLOW_TRACKING_USERNAME'] = config2.tracking_username\n",
    "        os.environ['MLFLOW_TRACKING_PASSWORD'] = config2.tracking_password\n",
    "        create_directories([config1.root_dir])\n",
    "\n",
    "        model_evaluation_config = ModelEvaluationConfig(\n",
    "            root_dir=config1.root_dir,\n",
    "            test_data_path=config1.test_data_path,\n",
    "            model_path = config1.model_path,\n",
    "            all_params=params,\n",
    "            metric_file_name = config1.metric_file_name,\n",
    "            target_column = schema.name,\n",
    "            mlflow_uri= config2.tracking_uri,\n",
    "           \n",
    "        )\n",
    "\n",
    "        return model_evaluation_config"
   ]
  },
  {
   "cell_type": "code",
   "execution_count": 35,
   "metadata": {},
   "outputs": [],
   "source": [
    "import pandas as pd\n",
    "import numpy as np\n",
    "from sklearn.metrics import mean_absolute_error, mean_squared_error, r2_score\n",
    "from sklearn.metrics import accuracy_score\n",
    "import joblib"
   ]
  },
  {
   "cell_type": "code",
   "execution_count": 36,
   "metadata": {},
   "outputs": [],
   "source": [
    "import json\n",
    "from urllib.parse import urlparse"
   ]
  },
  {
   "cell_type": "code",
   "execution_count": 37,
   "metadata": {},
   "outputs": [
    {
     "name": "stdout",
     "output_type": "stream",
     "text": [
      "Requirement already satisfied: mlflow in c:\\users\\archana\\anaconda3\\envs\\ml_assigment\\lib\\site-packages (2.21.2)\n",
      "Requirement already satisfied: mlflow-skinny==2.21.2 in c:\\users\\archana\\anaconda3\\envs\\ml_assigment\\lib\\site-packages (from mlflow) (2.21.2)\n",
      "Requirement already satisfied: Flask<4 in c:\\users\\archana\\anaconda3\\envs\\ml_assigment\\lib\\site-packages (from mlflow) (3.1.0)\n",
      "Requirement already satisfied: Jinja2<4,>=3.0 in c:\\users\\archana\\anaconda3\\envs\\ml_assigment\\lib\\site-packages (from mlflow) (3.1.6)\n",
      "Requirement already satisfied: alembic!=1.10.0,<2 in c:\\users\\archana\\anaconda3\\envs\\ml_assigment\\lib\\site-packages (from mlflow) (1.15.1)\n",
      "Requirement already satisfied: docker<8,>=4.0.0 in c:\\users\\archana\\anaconda3\\envs\\ml_assigment\\lib\\site-packages (from mlflow) (7.1.0)\n",
      "Requirement already satisfied: graphene<4 in c:\\users\\archana\\anaconda3\\envs\\ml_assigment\\lib\\site-packages (from mlflow) (3.4.3)\n",
      "Requirement already satisfied: markdown<4,>=3.3 in c:\\users\\archana\\anaconda3\\envs\\ml_assigment\\lib\\site-packages (from mlflow) (3.7)\n",
      "Requirement already satisfied: matplotlib<4 in c:\\users\\archana\\anaconda3\\envs\\ml_assigment\\lib\\site-packages (from mlflow) (3.10.1)\n",
      "Requirement already satisfied: numpy<3 in c:\\users\\archana\\anaconda3\\envs\\ml_assigment\\lib\\site-packages (from mlflow) (2.2.4)\n",
      "Requirement already satisfied: pandas<3 in c:\\users\\archana\\anaconda3\\envs\\ml_assigment\\lib\\site-packages (from mlflow) (2.2.3)\n",
      "Requirement already satisfied: pyarrow<20,>=4.0.0 in c:\\users\\archana\\anaconda3\\envs\\ml_assigment\\lib\\site-packages (from mlflow) (19.0.1)\n",
      "Requirement already satisfied: scikit-learn<2 in c:\\users\\archana\\anaconda3\\envs\\ml_assigment\\lib\\site-packages (from mlflow) (1.6.1)\n",
      "Requirement already satisfied: scipy<2 in c:\\users\\archana\\anaconda3\\envs\\ml_assigment\\lib\\site-packages (from mlflow) (1.15.2)\n",
      "Requirement already satisfied: sqlalchemy<3,>=1.4.0 in c:\\users\\archana\\anaconda3\\envs\\ml_assigment\\lib\\site-packages (from mlflow) (2.0.39)\n",
      "Requirement already satisfied: waitress<4 in c:\\users\\archana\\anaconda3\\envs\\ml_assigment\\lib\\site-packages (from mlflow) (3.0.2)\n",
      "Requirement already satisfied: cachetools<6,>=5.0.0 in c:\\users\\archana\\anaconda3\\envs\\ml_assigment\\lib\\site-packages (from mlflow-skinny==2.21.2->mlflow) (5.5.2)\n",
      "Requirement already satisfied: click<9,>=7.0 in c:\\users\\archana\\anaconda3\\envs\\ml_assigment\\lib\\site-packages (from mlflow-skinny==2.21.2->mlflow) (8.1.8)\n",
      "Requirement already satisfied: cloudpickle<4 in c:\\users\\archana\\anaconda3\\envs\\ml_assigment\\lib\\site-packages (from mlflow-skinny==2.21.2->mlflow) (3.1.1)\n",
      "Requirement already satisfied: databricks-sdk<1,>=0.20.0 in c:\\users\\archana\\anaconda3\\envs\\ml_assigment\\lib\\site-packages (from mlflow-skinny==2.21.2->mlflow) (0.47.0)\n",
      "Requirement already satisfied: fastapi<1 in c:\\users\\archana\\anaconda3\\envs\\ml_assigment\\lib\\site-packages (from mlflow-skinny==2.21.2->mlflow) (0.115.12)\n",
      "Requirement already satisfied: gitpython<4,>=3.1.9 in c:\\users\\archana\\anaconda3\\envs\\ml_assigment\\lib\\site-packages (from mlflow-skinny==2.21.2->mlflow) (3.1.44)\n",
      "Requirement already satisfied: importlib_metadata!=4.7.0,<9,>=3.7.0 in c:\\users\\archana\\anaconda3\\envs\\ml_assigment\\lib\\site-packages (from mlflow-skinny==2.21.2->mlflow) (8.6.1)\n",
      "Requirement already satisfied: opentelemetry-api<3,>=1.9.0 in c:\\users\\archana\\anaconda3\\envs\\ml_assigment\\lib\\site-packages (from mlflow-skinny==2.21.2->mlflow) (1.31.1)\n",
      "Requirement already satisfied: opentelemetry-sdk<3,>=1.9.0 in c:\\users\\archana\\anaconda3\\envs\\ml_assigment\\lib\\site-packages (from mlflow-skinny==2.21.2->mlflow) (1.31.1)\n",
      "Requirement already satisfied: packaging<25 in c:\\users\\archana\\anaconda3\\envs\\ml_assigment\\lib\\site-packages (from mlflow-skinny==2.21.2->mlflow) (24.2)\n",
      "Requirement already satisfied: protobuf<6,>=3.12.0 in c:\\users\\archana\\anaconda3\\envs\\ml_assigment\\lib\\site-packages (from mlflow-skinny==2.21.2->mlflow) (5.29.4)\n",
      "Requirement already satisfied: pydantic<3,>=1.10.8 in c:\\users\\archana\\anaconda3\\envs\\ml_assigment\\lib\\site-packages (from mlflow-skinny==2.21.2->mlflow) (2.10.6)\n",
      "Requirement already satisfied: pyyaml<7,>=5.1 in c:\\users\\archana\\anaconda3\\envs\\ml_assigment\\lib\\site-packages (from mlflow-skinny==2.21.2->mlflow) (6.0.2)\n",
      "Requirement already satisfied: requests<3,>=2.17.3 in c:\\users\\archana\\anaconda3\\envs\\ml_assigment\\lib\\site-packages (from mlflow-skinny==2.21.2->mlflow) (2.32.3)\n",
      "Requirement already satisfied: sqlparse<1,>=0.4.0 in c:\\users\\archana\\anaconda3\\envs\\ml_assigment\\lib\\site-packages (from mlflow-skinny==2.21.2->mlflow) (0.5.3)\n",
      "Requirement already satisfied: typing-extensions<5,>=4.0.0 in c:\\users\\archana\\anaconda3\\envs\\ml_assigment\\lib\\site-packages (from mlflow-skinny==2.21.2->mlflow) (4.12.2)\n",
      "Requirement already satisfied: uvicorn<1 in c:\\users\\archana\\anaconda3\\envs\\ml_assigment\\lib\\site-packages (from mlflow-skinny==2.21.2->mlflow) (0.34.0)\n",
      "Requirement already satisfied: Mako in c:\\users\\archana\\anaconda3\\envs\\ml_assigment\\lib\\site-packages (from alembic!=1.10.0,<2->mlflow) (1.3.9)\n",
      "Requirement already satisfied: pywin32>=304 in c:\\users\\archana\\anaconda3\\envs\\ml_assigment\\lib\\site-packages (from docker<8,>=4.0.0->mlflow) (307)\n",
      "Requirement already satisfied: urllib3>=1.26.0 in c:\\users\\archana\\anaconda3\\envs\\ml_assigment\\lib\\site-packages (from docker<8,>=4.0.0->mlflow) (2.3.0)\n",
      "Requirement already satisfied: Werkzeug>=3.1 in c:\\users\\archana\\anaconda3\\envs\\ml_assigment\\lib\\site-packages (from Flask<4->mlflow) (3.1.3)\n",
      "Requirement already satisfied: itsdangerous>=2.2 in c:\\users\\archana\\anaconda3\\envs\\ml_assigment\\lib\\site-packages (from Flask<4->mlflow) (2.2.0)\n",
      "Requirement already satisfied: blinker>=1.9 in c:\\users\\archana\\anaconda3\\envs\\ml_assigment\\lib\\site-packages (from Flask<4->mlflow) (1.9.0)\n",
      "Requirement already satisfied: graphql-core<3.3,>=3.1 in c:\\users\\archana\\anaconda3\\envs\\ml_assigment\\lib\\site-packages (from graphene<4->mlflow) (3.2.6)\n",
      "Requirement already satisfied: graphql-relay<3.3,>=3.1 in c:\\users\\archana\\anaconda3\\envs\\ml_assigment\\lib\\site-packages (from graphene<4->mlflow) (3.2.0)\n",
      "Requirement already satisfied: python-dateutil<3,>=2.7.0 in c:\\users\\archana\\anaconda3\\envs\\ml_assigment\\lib\\site-packages (from graphene<4->mlflow) (2.9.0.post0)\n",
      "Requirement already satisfied: MarkupSafe>=2.0 in c:\\users\\archana\\anaconda3\\envs\\ml_assigment\\lib\\site-packages (from Jinja2<4,>=3.0->mlflow) (3.0.2)\n",
      "Requirement already satisfied: contourpy>=1.0.1 in c:\\users\\archana\\anaconda3\\envs\\ml_assigment\\lib\\site-packages (from matplotlib<4->mlflow) (1.3.1)\n",
      "Requirement already satisfied: cycler>=0.10 in c:\\users\\archana\\anaconda3\\envs\\ml_assigment\\lib\\site-packages (from matplotlib<4->mlflow) (0.12.1)\n",
      "Requirement already satisfied: fonttools>=4.22.0 in c:\\users\\archana\\anaconda3\\envs\\ml_assigment\\lib\\site-packages (from matplotlib<4->mlflow) (4.56.0)\n",
      "Requirement already satisfied: kiwisolver>=1.3.1 in c:\\users\\archana\\anaconda3\\envs\\ml_assigment\\lib\\site-packages (from matplotlib<4->mlflow) (1.4.8)\n",
      "Requirement already satisfied: pillow>=8 in c:\\users\\archana\\anaconda3\\envs\\ml_assigment\\lib\\site-packages (from matplotlib<4->mlflow) (11.1.0)\n",
      "Requirement already satisfied: pyparsing>=2.3.1 in c:\\users\\archana\\anaconda3\\envs\\ml_assigment\\lib\\site-packages (from matplotlib<4->mlflow) (3.2.3)\n",
      "Requirement already satisfied: pytz>=2020.1 in c:\\users\\archana\\anaconda3\\envs\\ml_assigment\\lib\\site-packages (from pandas<3->mlflow) (2025.2)\n",
      "Requirement already satisfied: tzdata>=2022.7 in c:\\users\\archana\\anaconda3\\envs\\ml_assigment\\lib\\site-packages (from pandas<3->mlflow) (2025.2)\n",
      "Requirement already satisfied: joblib>=1.2.0 in c:\\users\\archana\\anaconda3\\envs\\ml_assigment\\lib\\site-packages (from scikit-learn<2->mlflow) (1.4.2)\n",
      "Requirement already satisfied: threadpoolctl>=3.1.0 in c:\\users\\archana\\anaconda3\\envs\\ml_assigment\\lib\\site-packages (from scikit-learn<2->mlflow) (3.6.0)\n",
      "Requirement already satisfied: greenlet!=0.4.17 in c:\\users\\archana\\anaconda3\\envs\\ml_assigment\\lib\\site-packages (from sqlalchemy<3,>=1.4.0->mlflow) (3.1.1)\n",
      "Requirement already satisfied: colorama in c:\\users\\archana\\anaconda3\\envs\\ml_assigment\\lib\\site-packages (from click<9,>=7.0->mlflow-skinny==2.21.2->mlflow) (0.4.6)\n",
      "Requirement already satisfied: google-auth~=2.0 in c:\\users\\archana\\anaconda3\\envs\\ml_assigment\\lib\\site-packages (from databricks-sdk<1,>=0.20.0->mlflow-skinny==2.21.2->mlflow) (2.38.0)\n",
      "Requirement already satisfied: starlette<0.47.0,>=0.40.0 in c:\\users\\archana\\anaconda3\\envs\\ml_assigment\\lib\\site-packages (from fastapi<1->mlflow-skinny==2.21.2->mlflow) (0.46.1)\n",
      "Requirement already satisfied: gitdb<5,>=4.0.1 in c:\\users\\archana\\anaconda3\\envs\\ml_assigment\\lib\\site-packages (from gitpython<4,>=3.1.9->mlflow-skinny==2.21.2->mlflow) (4.0.12)\n",
      "Requirement already satisfied: zipp>=3.20 in c:\\users\\archana\\anaconda3\\envs\\ml_assigment\\lib\\site-packages (from importlib_metadata!=4.7.0,<9,>=3.7.0->mlflow-skinny==2.21.2->mlflow) (3.21.0)\n",
      "Requirement already satisfied: deprecated>=1.2.6 in c:\\users\\archana\\anaconda3\\envs\\ml_assigment\\lib\\site-packages (from opentelemetry-api<3,>=1.9.0->mlflow-skinny==2.21.2->mlflow) (1.2.18)\n",
      "Requirement already satisfied: opentelemetry-semantic-conventions==0.52b1 in c:\\users\\archana\\anaconda3\\envs\\ml_assigment\\lib\\site-packages (from opentelemetry-sdk<3,>=1.9.0->mlflow-skinny==2.21.2->mlflow) (0.52b1)\n",
      "Requirement already satisfied: annotated-types>=0.6.0 in c:\\users\\archana\\anaconda3\\envs\\ml_assigment\\lib\\site-packages (from pydantic<3,>=1.10.8->mlflow-skinny==2.21.2->mlflow) (0.7.0)\n",
      "Requirement already satisfied: pydantic-core==2.27.2 in c:\\users\\archana\\anaconda3\\envs\\ml_assigment\\lib\\site-packages (from pydantic<3,>=1.10.8->mlflow-skinny==2.21.2->mlflow) (2.27.2)\n",
      "Requirement already satisfied: six>=1.5 in c:\\users\\archana\\anaconda3\\envs\\ml_assigment\\lib\\site-packages (from python-dateutil<3,>=2.7.0->graphene<4->mlflow) (1.17.0)\n",
      "Requirement already satisfied: charset-normalizer<4,>=2 in c:\\users\\archana\\anaconda3\\envs\\ml_assigment\\lib\\site-packages (from requests<3,>=2.17.3->mlflow-skinny==2.21.2->mlflow) (3.4.1)\n",
      "Requirement already satisfied: idna<4,>=2.5 in c:\\users\\archana\\anaconda3\\envs\\ml_assigment\\lib\\site-packages (from requests<3,>=2.17.3->mlflow-skinny==2.21.2->mlflow) (3.10)\n",
      "Requirement already satisfied: certifi>=2017.4.17 in c:\\users\\archana\\anaconda3\\envs\\ml_assigment\\lib\\site-packages (from requests<3,>=2.17.3->mlflow-skinny==2.21.2->mlflow) (2025.1.31)\n",
      "Requirement already satisfied: h11>=0.8 in c:\\users\\archana\\anaconda3\\envs\\ml_assigment\\lib\\site-packages (from uvicorn<1->mlflow-skinny==2.21.2->mlflow) (0.14.0)\n",
      "Requirement already satisfied: wrapt<2,>=1.10 in c:\\users\\archana\\anaconda3\\envs\\ml_assigment\\lib\\site-packages (from deprecated>=1.2.6->opentelemetry-api<3,>=1.9.0->mlflow-skinny==2.21.2->mlflow) (1.17.2)\n",
      "Requirement already satisfied: smmap<6,>=3.0.1 in c:\\users\\archana\\anaconda3\\envs\\ml_assigment\\lib\\site-packages (from gitdb<5,>=4.0.1->gitpython<4,>=3.1.9->mlflow-skinny==2.21.2->mlflow) (5.0.2)\n",
      "Requirement already satisfied: pyasn1-modules>=0.2.1 in c:\\users\\archana\\anaconda3\\envs\\ml_assigment\\lib\\site-packages (from google-auth~=2.0->databricks-sdk<1,>=0.20.0->mlflow-skinny==2.21.2->mlflow) (0.4.1)\n",
      "Requirement already satisfied: rsa<5,>=3.1.4 in c:\\users\\archana\\anaconda3\\envs\\ml_assigment\\lib\\site-packages (from google-auth~=2.0->databricks-sdk<1,>=0.20.0->mlflow-skinny==2.21.2->mlflow) (4.9)\n",
      "Requirement already satisfied: anyio<5,>=3.6.2 in c:\\users\\archana\\anaconda3\\envs\\ml_assigment\\lib\\site-packages (from starlette<0.47.0,>=0.40.0->fastapi<1->mlflow-skinny==2.21.2->mlflow) (4.9.0)\n",
      "Requirement already satisfied: exceptiongroup>=1.0.2 in c:\\users\\archana\\anaconda3\\envs\\ml_assigment\\lib\\site-packages (from anyio<5,>=3.6.2->starlette<0.47.0,>=0.40.0->fastapi<1->mlflow-skinny==2.21.2->mlflow) (1.2.2)\n",
      "Requirement already satisfied: sniffio>=1.1 in c:\\users\\archana\\anaconda3\\envs\\ml_assigment\\lib\\site-packages (from anyio<5,>=3.6.2->starlette<0.47.0,>=0.40.0->fastapi<1->mlflow-skinny==2.21.2->mlflow) (1.3.1)\n",
      "Requirement already satisfied: pyasn1<0.7.0,>=0.4.6 in c:\\users\\archana\\anaconda3\\envs\\ml_assigment\\lib\\site-packages (from pyasn1-modules>=0.2.1->google-auth~=2.0->databricks-sdk<1,>=0.20.0->mlflow-skinny==2.21.2->mlflow) (0.6.1)\n",
      "Note: you may need to restart the kernel to use updated packages.\n"
     ]
    }
   ],
   "source": [
    "%pip install mlflow"
   ]
  },
  {
   "cell_type": "code",
   "execution_count": 38,
   "metadata": {},
   "outputs": [],
   "source": [
    "import mlflow\n",
    "import mlflow.sklearn"
   ]
  },
  {
   "cell_type": "code",
   "execution_count": 39,
   "metadata": {},
   "outputs": [],
   "source": [
    "class ModelEvaluation:\n",
    "    def __init__(self, config: ModelEvaluationConfig):\n",
    "        self.config = config\n",
    "\n",
    "    \n",
    "    def eval_metrics(self,actual, pred):\n",
    "        rmse = np.sqrt(mean_squared_error(actual, pred))\n",
    "        mae = mean_absolute_error(actual, pred)\n",
    "        r2 = r2_score(actual, pred)\n",
    "        return rmse, mae, r2\n",
    "    \n",
    "    def log_into_mlflow(self):\n",
    "\n",
    "        test_data = pd.read_csv(self.config.test_data_path)\n",
    "        model = joblib.load(self.config.model_path)\n",
    "\n",
    "        test_x = test_data.drop([self.config.target_column], axis=1)\n",
    "        test_y = test_data[[self.config.target_column]]\n",
    "        \n",
    "        mlflow.set_experiment(\"First Experiment\")\n",
    "        \n",
    "        mlflow.set_tracking_uri(uri=self.config.mlflow_uri)\n",
    "        mlflow.set_registry_uri(self.config.mlflow_uri)\n",
    "        tracking_url_type_store = urlparse(mlflow.get_tracking_uri()).scheme\n",
    "\n",
    "\n",
    "        with mlflow.start_run():\n",
    "\n",
    "            predicted_qualities = model.predict(test_x)\n",
    "\n",
    "            (rmse, mae, r2) = self.eval_metrics(test_y, predicted_qualities)\n",
    "            \n",
    "            # Saving metrics as local\n",
    "            scores = {\"rmse\": rmse, \"mae\": mae, \"r2\": r2}\n",
    "            accuracy = accuracy_score(test_y, predicted_qualities)\n",
    "            save_json(path=Path(self.config.metric_file_name), data=scores)\n",
    "            \n",
    "\n",
    "            mlflow.log_params(self.config.all_params)\n",
    "            \n",
    "            mlflow.log_metric(\"accuracy\",accuracy)\n",
    "            mlflow.log_metric(\"rmse\", rmse)\n",
    "            mlflow.log_metric(\"r2\", r2)\n",
    "            mlflow.log_metric(\"mae\", mae)\n",
    "\n",
    "            \n",
    "            if tracking_url_type_store != \"file\":\n",
    "                mlflow.sklearn.log_model(model, \"model\", registered_model_name=\"LogisticRegressionModel\")\n",
    "            else:\n",
    "                mlflow.sklearn.log_model(model, \"model\")\n",
    "\n",
    "    "
   ]
  },
  {
   "cell_type": "code",
   "execution_count": 40,
   "metadata": {},
   "outputs": [
    {
     "name": "stdout",
     "output_type": "stream",
     "text": [
      "[2025-03-27 14:34:38,768: INFO: common: yaml file: config\\config.yaml loaded successfully]\n",
      "[2025-03-27 14:34:38,776: INFO: common: yaml file: params.yaml loaded successfully]\n",
      "[2025-03-27 14:34:38,783: INFO: common: yaml file: schema.yaml loaded successfully]\n",
      "[2025-03-27 14:34:38,785: INFO: common: created directory at: artifacts]\n",
      "[2025-03-27 14:34:38,786: INFO: common: created directory at: artifacts/model_evaluation]\n"
     ]
    },
    {
     "name": "stderr",
     "output_type": "stream",
     "text": [
      "2025/03/27 14:34:39 INFO mlflow.tracking.fluent: Experiment with name 'First Experiment' does not exist. Creating a new experiment.\n"
     ]
    },
    {
     "name": "stdout",
     "output_type": "stream",
     "text": [
      "[2025-03-27 14:34:41,121: INFO: common: json file saved at: artifacts\\model_evaluation\\metrics.json]\n"
     ]
    },
    {
     "name": "stderr",
     "output_type": "stream",
     "text": [
      "2025/03/27 14:34:55 WARNING mlflow.models.model: Model logged without a signature and input example. Please set `input_example` parameter when logging the model to auto infer the model signature.\n",
      "Successfully registered model 'LogisticRegressionModel'.\n",
      "2025/03/27 14:35:01 INFO mlflow.store.model_registry.abstract_store: Waiting up to 300 seconds for model version to finish creation. Model name: LogisticRegressionModel, version 1\n",
      "Created version '1' of model 'LogisticRegressionModel'.\n"
     ]
    },
    {
     "name": "stdout",
     "output_type": "stream",
     "text": [
      "🏃 View run resilient-crab-422 at: https://dagshub.com/archanalonkar/assignmen_solution.mlflow/#/experiments/0/runs/d34d399cafd4426e9e577672794b4827\n",
      "🧪 View experiment at: https://dagshub.com/archanalonkar/assignmen_solution.mlflow/#/experiments/0\n"
     ]
    }
   ],
   "source": [
    "try:\n",
    "    config = ConfigurationManager()\n",
    "    model_evaluation_config = config.get_model_evaluation_config()\n",
    "    model_evaluation_config = ModelEvaluation(config=model_evaluation_config)\n",
    "    model_evaluation_config.log_into_mlflow()\n",
    "    \n",
    "except Exception as e:\n",
    "    raise e"
   ]
  },
  {
   "cell_type": "code",
   "execution_count": null,
   "metadata": {},
   "outputs": [],
   "source": []
  }
 ],
 "metadata": {
  "kernelspec": {
   "display_name": "ml_assigment",
   "language": "python",
   "name": "python3"
  },
  "language_info": {
   "codemirror_mode": {
    "name": "ipython",
    "version": 3
   },
   "file_extension": ".py",
   "mimetype": "text/x-python",
   "name": "python",
   "nbconvert_exporter": "python",
   "pygments_lexer": "ipython3",
   "version": "3.10.16"
  }
 },
 "nbformat": 4,
 "nbformat_minor": 2
}
